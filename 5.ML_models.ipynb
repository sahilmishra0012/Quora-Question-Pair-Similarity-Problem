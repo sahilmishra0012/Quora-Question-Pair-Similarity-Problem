{
 "cells": [
  {
   "cell_type": "code",
   "execution_count": 1,
   "metadata": {
    "ExecuteTime": {
     "end_time": "2019-07-12T05:48:41.451129Z",
     "start_time": "2019-07-12T05:48:40.363042Z"
    },
    "colab": {},
    "colab_type": "code",
    "collapsed": true,
    "id": "6VXPfRp-tARR",
    "outputId": "6c27acaf-2c6a-467f-fd7a-68efce98e30b"
   },
   "outputs": [],
   "source": [
    "%matplotlib inline\n",
    "import pandas as pd\n",
    "import matplotlib.pyplot as plt\n",
    "import re\n",
    "import time\n",
    "import warnings\n",
    "import sqlite3\n",
    "from sqlalchemy import create_engine # database connection\n",
    "import csv\n",
    "import os\n",
    "warnings.filterwarnings(\"ignore\")\n",
    "import datetime as dt\n",
    "import numpy as np\n",
    "from nltk.corpus import stopwords\n",
    "from sklearn.decomposition import TruncatedSVD\n",
    "from sklearn.preprocessing import normalize\n",
    "from sklearn.feature_extraction.text import CountVectorizer\n",
    "from sklearn.manifold import TSNE\n",
    "import seaborn as sns\n",
    "from sklearn.neighbors import KNeighborsClassifier\n",
    "from sklearn.metrics import confusion_matrix\n",
    "from sklearn.metrics.classification import accuracy_score, log_loss\n",
    "from sklearn.feature_extraction.text import TfidfVectorizer\n",
    "from collections import Counter\n",
    "from scipy.sparse import hstack\n",
    "from sklearn.multiclass import OneVsRestClassifier\n",
    "from sklearn.svm import SVC\n",
    "from sklearn.model_selection import StratifiedKFold \n",
    "from collections import Counter, defaultdict\n",
    "from sklearn.calibration import CalibratedClassifierCV\n",
    "from sklearn.naive_bayes import MultinomialNB\n",
    "from sklearn.naive_bayes import GaussianNB\n",
    "from sklearn.model_selection import train_test_split\n",
    "from sklearn.model_selection import GridSearchCV\n",
    "import math\n",
    "from sklearn.metrics import normalized_mutual_info_score\n",
    "from sklearn.ensemble import RandomForestClassifier\n",
    "from sklearn.model_selection import cross_val_score\n",
    "from sklearn.linear_model import SGDClassifier\n",
    "from mlxtend.classifier import StackingClassifier\n",
    "from sklearn import model_selection\n",
    "from sklearn.linear_model import LogisticRegression\n",
    "from sklearn.metrics import precision_recall_curve, auc, roc_curve\n",
    "import pandas as pd\n",
    "import matplotlib.pyplot as plt\n",
    "import re\n",
    "import time\n",
    "import warnings\n",
    "import numpy as np\n",
    "from nltk.corpus import stopwords\n",
    "from sklearn.preprocessing import normalize\n",
    "from sklearn.feature_extraction.text import CountVectorizer\n",
    "from sklearn.feature_extraction.text import TfidfVectorizer\n",
    "import sys\n",
    "import os \n",
    "import pandas as pd\n",
    "import numpy as np\n",
    "from tqdm import tqdm"
   ]
  },
  {
   "cell_type": "markdown",
   "metadata": {},
   "source": [
    "## Read data(Previuosly Created Features)"
   ]
  },
  {
   "cell_type": "code",
   "execution_count": 2,
   "metadata": {
    "ExecuteTime": {
     "end_time": "2019-07-12T05:48:41.898565Z",
     "start_time": "2019-07-12T05:48:41.453030Z"
    },
    "collapsed": true
   },
   "outputs": [],
   "source": [
    "#prepro_features_train.csv (Simple Preprocessing Feartures)\n",
    "#nlp_features_train.csv (NLP Features)\n",
    "if os.path.isfile('nlp_features_train.csv'):\n",
    "    dfnlp = pd.read_csv(\"nlp_features_train.csv\",encoding='latin-1',nrows=50000)\n",
    "else:\n",
    "    print(\"download nlp_features_train.csv from drive or run previous notebook\")\n",
    "\n",
    "if os.path.isfile('df_fe_without_preprocessing_train.csv'):\n",
    "    dfppro = pd.read_csv(\"df_fe_without_preprocessing_train.csv\",encoding='latin-1',nrows=50000)\n",
    "else:\n",
    "    print(\"download df_fe_without_preprocessing_train.csv from drive or run previous notebook\")"
   ]
  },
  {
   "cell_type": "code",
   "execution_count": 3,
   "metadata": {
    "ExecuteTime": {
     "end_time": "2019-07-12T05:48:41.906642Z",
     "start_time": "2019-07-12T05:48:41.901543Z"
    },
    "collapsed": true
   },
   "outputs": [],
   "source": [
    "df1 = dfppro.drop(['qid1','qid2','question1','question2','is_duplicate'],axis=1)"
   ]
  },
  {
   "cell_type": "code",
   "execution_count": 4,
   "metadata": {
    "ExecuteTime": {
     "end_time": "2019-07-12T05:48:42.807005Z",
     "start_time": "2019-07-12T05:48:41.908508Z"
    },
    "collapsed": true
   },
   "outputs": [],
   "source": [
    "df  = dfnlp.merge(df1, on='id',how='left')"
   ]
  },
  {
   "cell_type": "code",
   "execution_count": 5,
   "metadata": {
    "ExecuteTime": {
     "end_time": "2019-07-12T05:48:42.845479Z",
     "start_time": "2019-07-12T05:48:42.808406Z"
    },
    "collapsed": false
   },
   "outputs": [
    {
     "name": "stdout",
     "output_type": "stream",
     "text": [
      "Number of features in dataframe : 32\n"
     ]
    }
   ],
   "source": [
    "print(\"Number of features in dataframe :\", df.shape[1])"
   ]
  },
  {
   "cell_type": "code",
   "execution_count": 6,
   "metadata": {
    "ExecuteTime": {
     "end_time": "2019-07-12T05:48:42.930272Z",
     "start_time": "2019-07-12T05:48:42.847715Z"
    },
    "collapsed": false
   },
   "outputs": [
    {
     "data": {
      "text/html": [
       "<div>\n",
       "<style scoped>\n",
       "    .dataframe tbody tr th:only-of-type {\n",
       "        vertical-align: middle;\n",
       "    }\n",
       "\n",
       "    .dataframe tbody tr th {\n",
       "        vertical-align: top;\n",
       "    }\n",
       "\n",
       "    .dataframe thead th {\n",
       "        text-align: right;\n",
       "    }\n",
       "</style>\n",
       "<table border=\"1\" class=\"dataframe\">\n",
       "  <thead>\n",
       "    <tr style=\"text-align: right;\">\n",
       "      <th></th>\n",
       "      <th>id</th>\n",
       "      <th>qid1</th>\n",
       "      <th>qid2</th>\n",
       "      <th>question1</th>\n",
       "      <th>question2</th>\n",
       "      <th>is_duplicate</th>\n",
       "      <th>cwc_min</th>\n",
       "      <th>cwc_max</th>\n",
       "      <th>csc_min</th>\n",
       "      <th>csc_max</th>\n",
       "      <th>...</th>\n",
       "      <th>freq_qid2</th>\n",
       "      <th>q1len</th>\n",
       "      <th>q2len</th>\n",
       "      <th>q1_n_words</th>\n",
       "      <th>q2_n_words</th>\n",
       "      <th>word_Common</th>\n",
       "      <th>word_Total</th>\n",
       "      <th>word_share</th>\n",
       "      <th>freq_q1+q2</th>\n",
       "      <th>freq_q1-q2</th>\n",
       "    </tr>\n",
       "  </thead>\n",
       "  <tbody>\n",
       "    <tr>\n",
       "      <th>0</th>\n",
       "      <td>0</td>\n",
       "      <td>1</td>\n",
       "      <td>2</td>\n",
       "      <td>what is the step by step guide to invest in sh...</td>\n",
       "      <td>what is the step by step guide to invest in sh...</td>\n",
       "      <td>0</td>\n",
       "      <td>0.999980</td>\n",
       "      <td>0.833319</td>\n",
       "      <td>0.999983</td>\n",
       "      <td>0.999983</td>\n",
       "      <td>...</td>\n",
       "      <td>1</td>\n",
       "      <td>66</td>\n",
       "      <td>57</td>\n",
       "      <td>14</td>\n",
       "      <td>12</td>\n",
       "      <td>10.0</td>\n",
       "      <td>23.0</td>\n",
       "      <td>0.434783</td>\n",
       "      <td>2</td>\n",
       "      <td>0</td>\n",
       "    </tr>\n",
       "    <tr>\n",
       "      <th>1</th>\n",
       "      <td>1</td>\n",
       "      <td>3</td>\n",
       "      <td>4</td>\n",
       "      <td>what is the story of kohinoor  koh i noor  dia...</td>\n",
       "      <td>what would happen if the indian government sto...</td>\n",
       "      <td>0</td>\n",
       "      <td>0.799984</td>\n",
       "      <td>0.399996</td>\n",
       "      <td>0.749981</td>\n",
       "      <td>0.599988</td>\n",
       "      <td>...</td>\n",
       "      <td>1</td>\n",
       "      <td>51</td>\n",
       "      <td>88</td>\n",
       "      <td>8</td>\n",
       "      <td>13</td>\n",
       "      <td>4.0</td>\n",
       "      <td>20.0</td>\n",
       "      <td>0.200000</td>\n",
       "      <td>5</td>\n",
       "      <td>3</td>\n",
       "    </tr>\n",
       "    <tr>\n",
       "      <th>2</th>\n",
       "      <td>2</td>\n",
       "      <td>5</td>\n",
       "      <td>6</td>\n",
       "      <td>how can i increase the speed of my internet co...</td>\n",
       "      <td>how can internet speed be increased by hacking...</td>\n",
       "      <td>0</td>\n",
       "      <td>0.399992</td>\n",
       "      <td>0.333328</td>\n",
       "      <td>0.399992</td>\n",
       "      <td>0.249997</td>\n",
       "      <td>...</td>\n",
       "      <td>1</td>\n",
       "      <td>73</td>\n",
       "      <td>59</td>\n",
       "      <td>14</td>\n",
       "      <td>10</td>\n",
       "      <td>4.0</td>\n",
       "      <td>24.0</td>\n",
       "      <td>0.166667</td>\n",
       "      <td>2</td>\n",
       "      <td>0</td>\n",
       "    </tr>\n",
       "    <tr>\n",
       "      <th>3</th>\n",
       "      <td>3</td>\n",
       "      <td>7</td>\n",
       "      <td>8</td>\n",
       "      <td>why am i mentally very lonely  how can i solve...</td>\n",
       "      <td>find the remainder when  math 23  24   math  i...</td>\n",
       "      <td>0</td>\n",
       "      <td>0.000000</td>\n",
       "      <td>0.000000</td>\n",
       "      <td>0.000000</td>\n",
       "      <td>0.000000</td>\n",
       "      <td>...</td>\n",
       "      <td>1</td>\n",
       "      <td>50</td>\n",
       "      <td>65</td>\n",
       "      <td>11</td>\n",
       "      <td>9</td>\n",
       "      <td>0.0</td>\n",
       "      <td>19.0</td>\n",
       "      <td>0.000000</td>\n",
       "      <td>2</td>\n",
       "      <td>0</td>\n",
       "    </tr>\n",
       "    <tr>\n",
       "      <th>4</th>\n",
       "      <td>4</td>\n",
       "      <td>9</td>\n",
       "      <td>10</td>\n",
       "      <td>which one dissolve in water quikly sugar  salt...</td>\n",
       "      <td>which fish would survive in salt water</td>\n",
       "      <td>0</td>\n",
       "      <td>0.399992</td>\n",
       "      <td>0.199998</td>\n",
       "      <td>0.999950</td>\n",
       "      <td>0.666644</td>\n",
       "      <td>...</td>\n",
       "      <td>1</td>\n",
       "      <td>76</td>\n",
       "      <td>39</td>\n",
       "      <td>13</td>\n",
       "      <td>7</td>\n",
       "      <td>2.0</td>\n",
       "      <td>20.0</td>\n",
       "      <td>0.100000</td>\n",
       "      <td>4</td>\n",
       "      <td>2</td>\n",
       "    </tr>\n",
       "  </tbody>\n",
       "</table>\n",
       "<p>5 rows × 32 columns</p>\n",
       "</div>"
      ],
      "text/plain": [
       "   id  qid1  qid2                                          question1  \\\n",
       "0   0     1     2  what is the step by step guide to invest in sh...   \n",
       "1   1     3     4  what is the story of kohinoor  koh i noor  dia...   \n",
       "2   2     5     6  how can i increase the speed of my internet co...   \n",
       "3   3     7     8  why am i mentally very lonely  how can i solve...   \n",
       "4   4     9    10  which one dissolve in water quikly sugar  salt...   \n",
       "\n",
       "                                           question2  is_duplicate   cwc_min  \\\n",
       "0  what is the step by step guide to invest in sh...             0  0.999980   \n",
       "1  what would happen if the indian government sto...             0  0.799984   \n",
       "2  how can internet speed be increased by hacking...             0  0.399992   \n",
       "3  find the remainder when  math 23  24   math  i...             0  0.000000   \n",
       "4            which fish would survive in salt water              0  0.399992   \n",
       "\n",
       "    cwc_max   csc_min   csc_max     ...      freq_qid2  q1len  q2len  \\\n",
       "0  0.833319  0.999983  0.999983     ...              1     66     57   \n",
       "1  0.399996  0.749981  0.599988     ...              1     51     88   \n",
       "2  0.333328  0.399992  0.249997     ...              1     73     59   \n",
       "3  0.000000  0.000000  0.000000     ...              1     50     65   \n",
       "4  0.199998  0.999950  0.666644     ...              1     76     39   \n",
       "\n",
       "   q1_n_words  q2_n_words  word_Common  word_Total  word_share  freq_q1+q2  \\\n",
       "0          14          12         10.0        23.0    0.434783           2   \n",
       "1           8          13          4.0        20.0    0.200000           5   \n",
       "2          14          10          4.0        24.0    0.166667           2   \n",
       "3          11           9          0.0        19.0    0.000000           2   \n",
       "4          13           7          2.0        20.0    0.100000           4   \n",
       "\n",
       "   freq_q1-q2  \n",
       "0           0  \n",
       "1           3  \n",
       "2           0  \n",
       "3           0  \n",
       "4           2  \n",
       "\n",
       "[5 rows x 32 columns]"
      ]
     },
     "execution_count": 6,
     "metadata": {},
     "output_type": "execute_result"
    }
   ],
   "source": [
    "df.head()"
   ]
  },
  {
   "cell_type": "code",
   "execution_count": 7,
   "metadata": {
    "ExecuteTime": {
     "end_time": "2019-07-12T05:48:42.981169Z",
     "start_time": "2019-07-12T05:48:42.932479Z"
    },
    "collapsed": false
   },
   "outputs": [
    {
     "data": {
      "text/plain": [
       "(50000,)"
      ]
     },
     "execution_count": 7,
     "metadata": {},
     "output_type": "execute_result"
    }
   ],
   "source": [
    "Y=df['is_duplicate']\n",
    "Y.shape"
   ]
  },
  {
   "cell_type": "code",
   "execution_count": 8,
   "metadata": {
    "ExecuteTime": {
     "end_time": "2019-07-12T05:48:43.082627Z",
     "start_time": "2019-07-12T05:48:42.985474Z"
    },
    "collapsed": true
   },
   "outputs": [],
   "source": [
    "df=df.drop(columns='is_duplicate',axis=1)"
   ]
  },
  {
   "cell_type": "code",
   "execution_count": 9,
   "metadata": {
    "ExecuteTime": {
     "end_time": "2019-07-12T05:48:43.115152Z",
     "start_time": "2019-07-12T05:48:43.085396Z"
    },
    "collapsed": false
   },
   "outputs": [
    {
     "data": {
      "text/plain": [
       "(50000, 31)"
      ]
     },
     "execution_count": 9,
     "metadata": {},
     "output_type": "execute_result"
    }
   ],
   "source": [
    "X=df\n",
    "X.shape"
   ]
  },
  {
   "cell_type": "markdown",
   "metadata": {
    "colab_type": "text",
    "id": "ZihvUPvHtARd"
   },
   "source": [
    "<h1>4. Machine Learning Models </h1>"
   ]
  },
  {
   "cell_type": "markdown",
   "metadata": {
    "colab_type": "text",
    "id": "CuMTqWGutASO"
   },
   "source": [
    "<h2> 4.3 Random train test split( 70:30) </h2>"
   ]
  },
  {
   "cell_type": "code",
   "execution_count": 10,
   "metadata": {
    "ExecuteTime": {
     "end_time": "2019-07-12T05:48:43.222427Z",
     "start_time": "2019-07-12T05:48:43.116506Z"
    },
    "colab": {},
    "colab_type": "code",
    "collapsed": true,
    "id": "3Rat2obGtASP"
   },
   "outputs": [],
   "source": [
    "X_train,X_test, y_train, y_test = train_test_split(X, Y, stratify=Y, test_size=0.3)"
   ]
  },
  {
   "cell_type": "code",
   "execution_count": 11,
   "metadata": {
    "ExecuteTime": {
     "end_time": "2019-07-12T05:48:43.250437Z",
     "start_time": "2019-07-12T05:48:43.223707Z"
    },
    "colab": {},
    "colab_type": "code",
    "collapsed": false,
    "id": "1Iw9zCHqtASS",
    "outputId": "910b684b-0876-4dd8-e0d9-457846236833"
   },
   "outputs": [
    {
     "name": "stdout",
     "output_type": "stream",
     "text": [
      "Number of data points in train data : (35000, 31)\n",
      "Number of data points in test data : (15000, 31)\n"
     ]
    }
   ],
   "source": [
    "print(\"Number of data points in train data :\",X_train.shape)\n",
    "print(\"Number of data points in test data :\",X_test.shape)"
   ]
  },
  {
   "cell_type": "code",
   "execution_count": 12,
   "metadata": {
    "ExecuteTime": {
     "end_time": "2019-07-12T05:48:43.328420Z",
     "start_time": "2019-07-12T05:48:43.252191Z"
    },
    "colab": {},
    "colab_type": "code",
    "collapsed": false,
    "id": "0oDV15LJtASY",
    "outputId": "70a1e4eb-3f31-4f1e-a53b-ad972978505d"
   },
   "outputs": [
    {
     "name": "stdout",
     "output_type": "stream",
     "text": [
      "---------- Distribution of output variable in train data ----------\n",
      "Class 0:  0.6270285714285714 Class 1:  0.37297142857142856\n",
      "---------- Distribution of output variable in train data ----------\n",
      "Class 0:  0.627 Class 1:  0.373\n"
     ]
    }
   ],
   "source": [
    "print(\"-\"*10, \"Distribution of output variable in train data\", \"-\"*10)\n",
    "train_distr = Counter(y_train)\n",
    "train_len = len(y_train)\n",
    "print(\"Class 0: \",int(train_distr[0])/train_len,\"Class 1: \", int(train_distr[1])/train_len)\n",
    "print(\"-\"*10, \"Distribution of output variable in train data\", \"-\"*10)\n",
    "test_distr = Counter(y_test)\n",
    "test_len = len(y_test)\n",
    "print(\"Class 0: \",int(test_distr[0])/test_len, \"Class 1: \",int(test_distr[1])/test_len)"
   ]
  },
  {
   "cell_type": "markdown",
   "metadata": {
    "colab_type": "text",
    "id": "UStQJ5F_tASk"
   },
   "source": [
    "<h2> 4.4 Building a random model (Finding worst-case log-loss) </h2>"
   ]
  },
  {
   "cell_type": "code",
   "execution_count": 13,
   "metadata": {
    "ExecuteTime": {
     "end_time": "2019-07-12T05:48:43.536114Z",
     "start_time": "2019-07-12T05:48:43.330317Z"
    },
    "colab": {},
    "colab_type": "code",
    "collapsed": false,
    "id": "qwMDqcU7tASl",
    "outputId": "c1e90d53-25ec-445b-e33a-299538520e32"
   },
   "outputs": [
    {
     "name": "stdout",
     "output_type": "stream",
     "text": [
      "Log loss on Test Data using Random Model 0.881719781613\n"
     ]
    }
   ],
   "source": [
    "# we need to generate 9 numbers and the sum of numbers should be 1\n",
    "# one solution is to genarate 9 numbers and divide each of the numbers by their sum\n",
    "# ref: https://stackoverflow.com/a/18662466/4084039\n",
    "# we create a output array that has exactly same size as the CV data\n",
    "predicted_y = np.zeros((test_len,2))\n",
    "for i in range(test_len):\n",
    "    rand_probs = np.random.rand(1,2)\n",
    "    predicted_y[i] = ((rand_probs/sum(sum(rand_probs)))[0])\n",
    "print(\"Log loss on Test Data using Random Model\",log_loss(y_test, predicted_y, eps=1e-15))\n",
    "\n",
    "predicted_y =np.argmax(predicted_y, axis=1)\n",
    "C = confusion_matrix(y_test, predicted_y)\n",
    "A =(((C.T)/(C.sum(axis=1))).T)\n",
    "B =(C/C.sum(axis=0))"
   ]
  },
  {
   "cell_type": "code",
   "execution_count": 14,
   "metadata": {
    "ExecuteTime": {
     "end_time": "2019-07-12T05:48:43.545203Z",
     "start_time": "2019-07-12T05:48:43.538338Z"
    },
    "collapsed": false
   },
   "outputs": [
    {
     "name": "stdout",
     "output_type": "stream",
     "text": [
      "Confusion Matrix\n",
      "[[4666 4739]\n",
      " [2773 2822]]\n",
      "\n",
      "\n",
      "Precision\n",
      "[[ 0.62723484  0.62676895]\n",
      " [ 0.37276516  0.37323105]]\n",
      "\n",
      "\n",
      "Recall\n",
      "[[ 0.49611909  0.50388091]\n",
      " [ 0.49562109  0.50437891]]\n"
     ]
    }
   ],
   "source": [
    "print('Confusion Matrix')\n",
    "print(C)\n",
    "print('\\n\\nPrecision')\n",
    "print(B)\n",
    "print('\\n\\nRecall')\n",
    "print(A)"
   ]
  },
  {
   "cell_type": "code",
   "execution_count": 15,
   "metadata": {
    "ExecuteTime": {
     "end_time": "2019-07-12T05:48:43.845704Z",
     "start_time": "2019-07-12T05:48:43.546852Z"
    },
    "collapsed": true
   },
   "outputs": [],
   "source": [
    "X_train['question1'] = X_train['question1'].apply(lambda x: str(x))\n",
    "X_train['question2'] = X_train['question2'].apply(lambda x: str(x))\n",
    "X_test['question1'] = X_test['question1'].apply(lambda x: str(x))\n",
    "X_test['question2'] = X_test['question2'].apply(lambda x: str(x))"
   ]
  },
  {
   "cell_type": "code",
   "execution_count": 16,
   "metadata": {
    "ExecuteTime": {
     "end_time": "2019-07-12T05:48:43.870163Z",
     "start_time": "2019-07-12T05:48:43.847349Z"
    },
    "collapsed": true
   },
   "outputs": [],
   "source": [
    "questions = list(X_train['question1']) + list(X_train['question2'])"
   ]
  },
  {
   "cell_type": "code",
   "execution_count": 17,
   "metadata": {
    "ExecuteTime": {
     "end_time": "2019-07-12T05:48:49.275001Z",
     "start_time": "2019-07-12T05:48:43.872007Z"
    },
    "collapsed": false
   },
   "outputs": [
    {
     "data": {
      "text/plain": [
       "TfidfVectorizer(analyzer='word', binary=False, decode_error='strict',\n",
       "        dtype=<class 'numpy.float64'>, encoding='utf-8', input='content',\n",
       "        lowercase=True, max_df=1.0, max_features=10000, min_df=10,\n",
       "        ngram_range=(1, 4), norm='l2', preprocessor=None, smooth_idf=True,\n",
       "        stop_words=None, strip_accents=None, sublinear_tf=False,\n",
       "        token_pattern='(?u)\\\\b\\\\w\\\\w+\\\\b', tokenizer=None, use_idf=True,\n",
       "        vocabulary=None)"
      ]
     },
     "execution_count": 17,
     "metadata": {},
     "output_type": "execute_result"
    }
   ],
   "source": [
    "vectorizer = TfidfVectorizer(min_df=10,ngram_range=(1,4), max_features=10000)\n",
    "vectorizer.fit(questions)"
   ]
  },
  {
   "cell_type": "code",
   "execution_count": 18,
   "metadata": {
    "ExecuteTime": {
     "end_time": "2019-07-12T05:48:50.418647Z",
     "start_time": "2019-07-12T05:48:49.276867Z"
    },
    "collapsed": true
   },
   "outputs": [],
   "source": [
    "X_train_q1_tfidf = vectorizer.transform(X_train['question1'].values)"
   ]
  },
  {
   "cell_type": "code",
   "execution_count": 19,
   "metadata": {
    "ExecuteTime": {
     "end_time": "2019-07-12T05:48:52.083454Z",
     "start_time": "2019-07-12T05:48:50.424124Z"
    },
    "collapsed": true
   },
   "outputs": [],
   "source": [
    "X_train_q2_tfidf = vectorizer.transform(X_train['question2'].values)"
   ]
  },
  {
   "cell_type": "code",
   "execution_count": 20,
   "metadata": {
    "ExecuteTime": {
     "end_time": "2019-07-12T05:48:52.575244Z",
     "start_time": "2019-07-12T05:48:52.084900Z"
    },
    "collapsed": true
   },
   "outputs": [],
   "source": [
    "X_test_q1_tfidf = vectorizer.transform(X_test['question1'].values)"
   ]
  },
  {
   "cell_type": "code",
   "execution_count": 21,
   "metadata": {
    "ExecuteTime": {
     "end_time": "2019-07-12T05:48:53.456041Z",
     "start_time": "2019-07-12T05:48:52.577412Z"
    },
    "collapsed": true
   },
   "outputs": [],
   "source": [
    "X_test_q2_tfidf = vectorizer.transform(X_test['question2'].values)"
   ]
  },
  {
   "cell_type": "code",
   "execution_count": 22,
   "metadata": {
    "ExecuteTime": {
     "end_time": "2019-07-12T05:48:53.465467Z",
     "start_time": "2019-07-12T05:48:53.457392Z"
    },
    "collapsed": true
   },
   "outputs": [],
   "source": [
    "X_train = X_train.drop(['id','qid1','qid2','question1','question2'],axis=1)"
   ]
  },
  {
   "cell_type": "code",
   "execution_count": 23,
   "metadata": {
    "ExecuteTime": {
     "end_time": "2019-07-12T05:48:53.545957Z",
     "start_time": "2019-07-12T05:48:53.470463Z"
    },
    "collapsed": true
   },
   "outputs": [],
   "source": [
    "X_test = X_test.drop(['id','qid1','qid2','question1','question2'],axis=1)"
   ]
  },
  {
   "cell_type": "code",
   "execution_count": 24,
   "metadata": {
    "ExecuteTime": {
     "end_time": "2019-07-12T05:55:48.898265Z",
     "start_time": "2019-07-12T05:55:48.886923Z"
    },
    "collapsed": true
   },
   "outputs": [],
   "source": [
    "from scipy.sparse import hstack"
   ]
  },
  {
   "cell_type": "code",
   "execution_count": 25,
   "metadata": {
    "ExecuteTime": {
     "end_time": "2019-07-12T06:07:18.991056Z",
     "start_time": "2019-07-12T06:07:18.873150Z"
    },
    "collapsed": true
   },
   "outputs": [],
   "source": [
    "train_data=hstack((X_train,X_train_q1_tfidf,X_train_q2_tfidf)).tocsr()"
   ]
  },
  {
   "cell_type": "code",
   "execution_count": 26,
   "metadata": {
    "ExecuteTime": {
     "end_time": "2019-07-12T06:07:20.799822Z",
     "start_time": "2019-07-12T06:07:20.754948Z"
    },
    "collapsed": true
   },
   "outputs": [],
   "source": [
    "test_data=hstack((X_test,X_test_q1_tfidf,X_test_q2_tfidf)).tocsr()"
   ]
  },
  {
   "cell_type": "markdown",
   "metadata": {
    "colab_type": "text",
    "id": "YgY29g_qtASq"
   },
   "source": [
    "<h2> 4.4 Logistic Regression with hyperparameter tuning </h2>"
   ]
  },
  {
   "cell_type": "code",
   "execution_count": 27,
   "metadata": {
    "ExecuteTime": {
     "end_time": "2019-07-12T06:15:03.768221Z",
     "start_time": "2019-07-12T06:14:28.115261Z"
    },
    "colab": {},
    "colab_type": "code",
    "collapsed": false,
    "id": "Wb2tOE3GtASr",
    "outputId": "d7e4fc88-7d4e-4313-cda7-462a2409292e"
   },
   "outputs": [
    {
     "name": "stdout",
     "output_type": "stream",
     "text": [
      "For values of alpha =  1e-05 The log loss is: 0.456407418626\n",
      "For values of alpha =  0.0001 The log loss is: 0.450363724367\n",
      "For values of alpha =  0.001 The log loss is: 0.461362635491\n",
      "For values of alpha =  0.01 The log loss is: 0.454097717528\n",
      "For values of alpha =  0.1 The log loss is: 0.458253276429\n",
      "For values of alpha =  1 The log loss is: 0.495504211378\n",
      "For values of alpha =  10 The log loss is: 0.546173329911\n"
     ]
    },
    {
     "data": {
      "image/png": "[encoded data removed]",
      "text/plain": [
       "<matplotlib.figure.Figure at 0x7f067255fba8>"
      ]
     },
     "metadata": {},
     "output_type": "display_data"
    }
   ],
   "source": [
    "alpha = [10 ** x for x in range(-5, 2)] # hyperparam for SGD classifier.\n",
    "\n",
    "# read more about SGDClassifier() at http://scikit-learn.org/stable/modules/generated/sklearn.linear_model.SGDClassifier.html\n",
    "# ------------------------------\n",
    "# default parameters\n",
    "# SGDClassifier(loss=’hinge’, penalty=’l2’, alpha=0.0001, l1_ratio=0.15, fit_intercept=True, max_iter=None, tol=None, \n",
    "# shuffle=True, verbose=0, epsilon=0.1, n_jobs=1, random_state=None, learning_rate=’optimal’, eta0=0.0, power_t=0.5, \n",
    "# class_weight=None, warm_start=False, average=False, n_iter=None)\n",
    "\n",
    "# some of methods\n",
    "# fit(X, y[, coef_init, intercept_init, …])\tFit linear model with Stochastic Gradient Descent.\n",
    "# predict(X)\tPredict class labels for samples in X.\n",
    "\n",
    "#-------------------------------\n",
    "# video link: \n",
    "#------------------------------\n",
    "\n",
    "\n",
    "log_error_array=[]\n",
    "for i in alpha:\n",
    "    clf = SGDClassifier(alpha=i, penalty='l2', loss='log', random_state=42)\n",
    "    clf.fit(X_train, y_train)\n",
    "    sig_clf = CalibratedClassifierCV(clf, method=\"sigmoid\")\n",
    "    sig_clf.fit(train_data, y_train)\n",
    "    predict_y = sig_clf.predict_proba(test_data)\n",
    "    log_error_array.append(log_loss(y_test, predict_y, labels=clf.classes_, eps=1e-15))\n",
    "    print('For values of alpha = ', i, \"The log loss is:\",log_loss(y_test, predict_y, labels=clf.classes_, eps=1e-15))\n",
    "\n",
    "fig, ax = plt.subplots()\n",
    "ax.plot(alpha, log_error_array,c='g')\n",
    "for i, txt in enumerate(np.round(log_error_array,3)):\n",
    "    ax.annotate((alpha[i],np.round(txt,3)), (alpha[i],log_error_array[i]))\n",
    "plt.grid()\n",
    "plt.title(\"Cross Validation Error for each alpha\")\n",
    "plt.xlabel(\"Alpha i's\")\n",
    "plt.ylabel(\"Error measure\")\n",
    "plt.show()"
   ]
  },
  {
   "cell_type": "code",
   "execution_count": 28,
   "metadata": {
    "collapsed": true
   },
   "outputs": [],
   "source": [
    "best_alpha = np.argmin(log_error_array)"
   ]
  },
  {
   "cell_type": "code",
   "execution_count": 29,
   "metadata": {
    "ExecuteTime": {
     "end_time": "2019-07-12T06:17:04.455091Z",
     "start_time": "2019-07-12T06:16:53.961062Z"
    },
    "collapsed": false
   },
   "outputs": [
    {
     "name": "stdout",
     "output_type": "stream",
     "text": [
      "For values of best alpha =  0.0001 The train log loss is: 0.454954506432\n",
      "For values of best alpha =  0.0001 The test log loss is: 0.450363724367\n",
      "Total number of data points : 15000\n",
      "Confusion Matrix\n",
      "[[8382 1023]\n",
      " [2433 3162]]\n",
      "\n",
      "\n",
      "Precision\n",
      "[[ 0.77503467  0.24444444]\n",
      " [ 0.22496533  0.75555556]]\n",
      "\n",
      "\n",
      "Recall\n",
      "[[ 0.89122807  0.10877193]\n",
      " [ 0.43485255  0.56514745]]\n"
     ]
    }
   ],
   "source": [
    "clf = SGDClassifier(alpha=alpha[best_alpha], penalty='l2', loss='log', random_state=42)\n",
    "clf.fit(train_data, y_train)\n",
    "sig_clf = CalibratedClassifierCV(clf,method=\"sigmoid\")\n",
    "sig_clf.fit(train_data, y_train)\n",
    "\n",
    "predict_y = sig_clf.predict_proba(train_data)\n",
    "\n",
    "print('For values of best alpha = ', alpha[best_alpha], \"The train log loss is:\",log_loss(y_train, predict_y, labels=clf.classes_, eps=1e-15))\n",
    "\n",
    "predict_y = sig_clf.predict_proba(test_data)\n",
    "print('For values of best alpha = ', alpha[best_alpha], \"The test log loss is:\",log_loss(y_test, predict_y, labels=clf.classes_, eps=1e-15))\n",
    "\n",
    "predicted_y =np.argmax(predict_y,axis=1)\n",
    "print(\"Total number of data points :\", len(predicted_y))\n",
    "C = confusion_matrix(y_test, predicted_y)\n",
    "A =(((C.T)/(C.sum(axis=1))).T)\n",
    "B =(C/C.sum(axis=0))\n",
    "print('Confusion Matrix')\n",
    "print(C)\n",
    "print('\\n\\nPrecision')\n",
    "print(B)\n",
    "print('\\n\\nRecall')\n",
    "print(A)"
   ]
  },
  {
   "cell_type": "markdown",
   "metadata": {
    "colab_type": "text",
    "id": "ouQSEnr3tASy"
   },
   "source": [
    "<h2> 4.5 Linear SVM with hyperparameter tuning </h2>"
   ]
  },
  {
   "cell_type": "code",
   "execution_count": 30,
   "metadata": {
    "ExecuteTime": {
     "end_time": "2019-07-12T06:41:18.597900Z",
     "start_time": "2019-07-12T06:38:46.054147Z"
    },
    "colab": {},
    "colab_type": "code",
    "collapsed": false,
    "id": "AOFfZ5PLtAS0",
    "outputId": "d31eb598-e275-48cb-c49b-98e9eb76d8ba"
   },
   "outputs": [
    {
     "name": "stdout",
     "output_type": "stream",
     "text": [
      "For values of alpha =  1e-05 The log loss is: 0.464243617821\n",
      "For values of alpha =  0.0001 The log loss is: 0.476613022085\n",
      "For values of alpha =  0.001 The log loss is: 0.489650186544\n",
      "For values of alpha =  0.01 The log loss is: 0.483986487766\n",
      "For values of alpha =  0.1 The log loss is: 0.503113643508\n",
      "For values of alpha =  1 The log loss is: 0.573368445062\n",
      "For values of alpha =  10 The log loss is: 0.653244567668\n"
     ]
    },
    {
     "data": {
      "image/png": "[encoded data removed]",
      "text/plain": [
       "<matplotlib.figure.Figure at 0x7f0672327390>"
      ]
     },
     "metadata": {},
     "output_type": "display_data"
    },
    {
     "name": "stdout",
     "output_type": "stream",
     "text": [
      "For values of best alpha =  1e-05 The train log loss is: 0.47109614723\n",
      "For values of best alpha =  1e-05 The test log loss is: 0.464243617821\n",
      "Total number of data points : 15000\n",
      "Confusion Matrix\n",
      "[[8747  658]\n",
      " [2775 2820]]\n",
      "\n",
      "\n",
      "Precision\n",
      "[[ 0.7591564   0.18918919]\n",
      " [ 0.2408436   0.81081081]]\n",
      "\n",
      "\n",
      "Recall\n",
      "[[ 0.93003721  0.06996279]\n",
      " [ 0.49597855  0.50402145]]\n"
     ]
    }
   ],
   "source": [
    "alpha = [10 ** x for x in range(-5, 2)] # hyperparam for SGD classifier.\n",
    "\n",
    "# read more about SGDClassifier() at http://scikit-learn.org/stable/modules/generated/sklearn.linear_model.SGDClassifier.html\n",
    "# ------------------------------\n",
    "# default parameters\n",
    "# SGDClassifier(loss=’hinge’, penalty=’l2’, alpha=0.0001, l1_ratio=0.15, fit_intercept=True, max_iter=None, tol=None, \n",
    "# shuffle=True, verbose=0, epsilon=0.1, n_jobs=1, random_state=None, learning_rate=’optimal’, eta0=0.0, power_t=0.5, \n",
    "# class_weight=None, warm_start=False, average=False, n_iter=None)\n",
    "\n",
    "# some of methods\n",
    "# fit(X, y[, coef_init, intercept_init, …])\tFit linear model with Stochastic Gradient Descent.\n",
    "# predict(X)\tPredict class labels for samples in X.\n",
    "\n",
    "#-------------------------------\n",
    "# video link: \n",
    "#------------------------------\n",
    "\n",
    "\n",
    "log_error_array=[]\n",
    "for i in alpha:\n",
    "    clf = SGDClassifier(alpha=i, penalty='l1', loss='hinge', random_state=42)\n",
    "    clf.fit(train_data, y_train)\n",
    "    sig_clf = CalibratedClassifierCV(clf, method=\"sigmoid\")\n",
    "    sig_clf.fit(train_data, y_train)\n",
    "    predict_y = sig_clf.predict_proba(test_data)\n",
    "    log_error_array.append(log_loss(y_test, predict_y, labels=clf.classes_, eps=1e-15))\n",
    "    print('For values of alpha = ', i, \"The log loss is:\",log_loss(y_test, predict_y, labels=clf.classes_, eps=1e-15))\n",
    "\n",
    "fig, ax = plt.subplots()\n",
    "ax.plot(alpha, log_error_array,c='g')\n",
    "for i, txt in enumerate(np.round(log_error_array,3)):\n",
    "    ax.annotate((alpha[i],np.round(txt,3)), (alpha[i],log_error_array[i]))\n",
    "plt.grid()\n",
    "plt.title(\"Cross Validation Error for each alpha\")\n",
    "plt.xlabel(\"Alpha i's\")\n",
    "plt.ylabel(\"Error measure\")\n",
    "plt.show()\n",
    "\n",
    "\n",
    "best_alpha = np.argmin(log_error_array)\n",
    "clf = SGDClassifier(alpha=alpha[best_alpha], penalty='l1', loss='hinge', random_state=42)\n",
    "clf.fit(train_data, y_train)\n",
    "sig_clf = CalibratedClassifierCV(clf, method=\"sigmoid\")\n",
    "sig_clf.fit(train_data, y_train)\n",
    "\n",
    "predict_y = sig_clf.predict_proba(train_data)\n",
    "print('For values of best alpha = ', alpha[best_alpha], \"The train log loss is:\",log_loss(y_train, predict_y, labels=clf.classes_, eps=1e-15))\n",
    "predict_y = sig_clf.predict_proba(test_data)\n",
    "print('For values of best alpha = ', alpha[best_alpha], \"The test log loss is:\",log_loss(y_test, predict_y, labels=clf.classes_, eps=1e-15))\n",
    "predicted_y =np.argmax(predict_y,axis=1)\n",
    "print(\"Total number of data points :\", len(predicted_y))\n",
    "C = confusion_matrix(y_test, predicted_y)\n",
    "A =(((C.T)/(C.sum(axis=1))).T)\n",
    "B =(C/C.sum(axis=0))\n",
    "print('Confusion Matrix')\n",
    "print(C)\n",
    "print('\\n\\nPrecision')\n",
    "print(B)\n",
    "print('\\n\\nRecall')\n",
    "print(A)"
   ]
  },
  {
   "cell_type": "markdown",
   "metadata": {
    "colab_type": "text",
    "id": "ZhTJgclztAS6"
   },
   "source": [
    "<h2> 4.6 XGBoost with hyperparameter tuning</h2>"
   ]
  },
  {
   "cell_type": "code",
   "execution_count": 33,
   "metadata": {
    "collapsed": false
   },
   "outputs": [],
   "source": [
    "params = {\n",
    "'max_depth': [3, 4, 5, 6, 7, 8],\n",
    "'eta' : [0.01, 0.02, 0.05, 0.1, 0.2, 0.3],\n",
    "'n_estimators' : [100, 200, 300, 400, 500],\n",
    "'gamma': [0, 0.5, 1, 1.5, 2, 5],\n",
    "'objective' : ['binary:logistic']\n",
    "}"
   ]
  },
  {
   "cell_type": "code",
   "execution_count": 43,
   "metadata": {
    "colab": {},
    "colab_type": "code",
    "collapsed": false,
    "id": "9U367-xetAS7",
    "outputId": "167e8588-2ac4-4c6d-ac22-f56a2fce5657"
   },
   "outputs": [],
   "source": [
    "from xgboost import XGBClassifier\n",
    "folds=3\n",
    "param_combined=4\n",
    "xgb=XGBClassifier(nthreads=1)"
   ]
  },
  {
   "cell_type": "code",
   "execution_count": 45,
   "metadata": {
    "collapsed": false
   },
   "outputs": [
    {
     "name": "stdout",
     "output_type": "stream",
     "text": [
      "Fitting 3 folds for each of 4 candidates, totalling 12 fits\n"
     ]
    },
    {
     "name": "stderr",
     "output_type": "stream",
     "text": [
      "[Parallel(n_jobs=4)]: Using backend LokyBackend with 4 concurrent workers.\n",
      "[Parallel(n_jobs=4)]: Done  12 out of  12 | elapsed:  3.6min remaining:    0.0s\n",
      "[Parallel(n_jobs=4)]: Done  12 out of  12 | elapsed:  3.6min finished\n"
     ]
    },
    {
     "data": {
      "text/plain": [
       "RandomizedSearchCV(cv=<generator object _BaseKFold.split at 0x7f064ce30678>,\n",
       "          error_score='raise-deprecating',\n",
       "          estimator=XGBClassifier(base_score=0.5, booster='gbtree', colsample_bylevel=1,\n",
       "       colsample_bynode=1, colsample_bytree=1, gamma=0, learning_rate=0.1,\n",
       "       max_delta_step=0, max_depth=3, min_child_weight=1, missing=None,\n",
       "       n_estimators=100, n_jobs=1, nthread=None, nthreads=1,\n",
       "       objective='binary:logistic', random_state=0, reg_alpha=0,\n",
       "       reg_lambda=1, scale_pos_weight=1, seed=None, silent=None,\n",
       "       subsample=1, verbosity=1),\n",
       "          fit_params=None, iid='warn', n_iter=4, n_jobs=4,\n",
       "          param_distributions={'n_estimators': [100, 200, 300, 400, 500], 'gamma': [0, 0.5, 1, 1.5, 2, 5], 'max_depth': [3, 4, 5, 6, 7, 8], 'eta': [0.01, 0.02, 0.05, 0.1, 0.2, 0.3], 'objective': ['binary:logistic']},\n",
       "          pre_dispatch='2*n_jobs', random_state=42, refit=True,\n",
       "          return_train_score='warn', scoring='neg_log_loss', verbose=2)"
      ]
     },
     "execution_count": 45,
     "metadata": {},
     "output_type": "execute_result"
    }
   ],
   "source": [
    "from sklearn.model_selection import RandomizedSearchCV\n",
    "skf=StratifiedKFold(n_splits=folds,shuffle=True,random_state=42)\n",
    "random_search = RandomizedSearchCV(xgb, param_distributions=params, n_iter=param_comb, scoring='neg_log_loss', n_jobs=4, cv=skf.split(train_data,y_train), verbose=2, random_state=42 )\n",
    "random_search.fit(train_data, y_train)"
   ]
  },
  {
   "cell_type": "code",
   "execution_count": 48,
   "metadata": {
    "collapsed": false
   },
   "outputs": [],
   "source": [
    "best_parameters=random_search.best_params_"
   ]
  },
  {
   "cell_type": "code",
   "execution_count": 49,
   "metadata": {
    "collapsed": false
   },
   "outputs": [
    {
     "name": "stdout",
     "output_type": "stream",
     "text": [
      "[0]\ttrain-error:0.195457\tvalid-error:0.1992\n",
      "Multiple eval metrics have been passed: 'valid-error' will be used for early stopping.\n",
      "\n",
      "Will train until valid-error hasn't improved in 20 rounds.\n",
      "[10]\ttrain-error:0.158429\tvalid-error:0.176667\n",
      "[20]\ttrain-error:0.146571\tvalid-error:0.170467\n",
      "[30]\ttrain-error:0.131114\tvalid-error:0.1682\n",
      "[40]\ttrain-error:0.123657\tvalid-error:0.167467\n",
      "[50]\ttrain-error:0.115286\tvalid-error:0.164533\n",
      "[60]\ttrain-error:0.110314\tvalid-error:0.164067\n",
      "[70]\ttrain-error:0.104514\tvalid-error:0.163467\n",
      "[80]\ttrain-error:0.101343\tvalid-error:0.162867\n",
      "[90]\ttrain-error:0.097057\tvalid-error:0.161533\n",
      "[100]\ttrain-error:0.092857\tvalid-error:0.161\n",
      "[110]\ttrain-error:0.089571\tvalid-error:0.160533\n",
      "[120]\ttrain-error:0.084714\tvalid-error:0.1612\n",
      "Stopping. Best iteration:\n",
      "[103]\ttrain-error:0.091571\tvalid-error:0.1602\n",
      "\n",
      "The test log loss is: 0.332101433166\n"
     ]
    }
   ],
   "source": [
    "import xgboost as xgb\n",
    "\n",
    "\n",
    "d_train = xgb.DMatrix(train_data, label=y_train)\n",
    "d_test = xgb.DMatrix(test_data, label=y_test)\n",
    "\n",
    "watchlist = [(d_train, 'train'), (d_test, 'valid')]\n",
    "\n",
    "bst = xgb.train(best_parameters, d_train, 400, watchlist, early_stopping_rounds=20, verbose_eval=10)\n",
    "\n",
    "xgdmat = xgb.DMatrix(train_data,y_train)\n",
    "predict_y = bst.predict(d_test)\n",
    "print(\"The test log loss is:\",log_loss(y_test, predict_y, labels=clf.classes_, eps=1e-15))"
   ]
  },
  {
   "cell_type": "code",
   "execution_count": 50,
   "metadata": {
    "colab": {},
    "colab_type": "code",
    "collapsed": false,
    "id": "6U5b17AatAS_",
    "outputId": "ca83b680-023b-4bc5-f499-8d8d85c2ff5e"
   },
   "outputs": [
    {
     "name": "stdout",
     "output_type": "stream",
     "text": [
      "Total number of data points : 15000\n",
      "Confusion Matrix\n",
      "[[8345 1060]\n",
      " [1354 4241]]\n",
      "\n",
      "\n",
      "Precision\n",
      "[[ 0.86039798  0.19996227]\n",
      " [ 0.13960202  0.80003773]]\n",
      "\n",
      "\n",
      "Recall\n",
      "[[ 0.88729399  0.11270601]\n",
      " [ 0.24200179  0.75799821]]\n"
     ]
    }
   ],
   "source": [
    "predicted_y =np.array(predict_y>0.5,dtype=int)\n",
    "print(\"Total number of data points :\", len(predicted_y))\n",
    "C = confusion_matrix(y_test, predicted_y)\n",
    "A =(((C.T)/(C.sum(axis=1))).T)\n",
    "B =(C/C.sum(axis=0))\n",
    "print('Confusion Matrix')\n",
    "print(C)\n",
    "print('\\n\\nPrecision')\n",
    "print(B)\n",
    "print('\\n\\nRecall')\n",
    "print(A)"
   ]
  },
  {
   "cell_type": "markdown",
   "metadata": {},
   "source": [
    "# Conclusion"
   ]
  },
  {
   "cell_type": "code",
   "execution_count": 53,
   "metadata": {
    "collapsed": false
   },
   "outputs": [
    {
     "name": "stdout",
     "output_type": "stream",
     "text": [
      "+------------+---------------------+----------------+----------------+\n",
      "| Vectorizer |        Model        | Train log loss | Test log loss  |\n",
      "+------------+---------------------+----------------+----------------+\n",
      "|   TFIDF    |     Random Model    |     -----      | 0.881719781613 |\n",
      "|   TFIDF    | Logistic Regression | 0.454954506432 | 0.450363724367 |\n",
      "|   TFIDF    |      Linear SVM     | 0.47109614723  | 0.464243617821 |\n",
      "|   TFIDF    |       XGBoost       |    0.091571    | 0.332101433166 |\n",
      "+------------+---------------------+----------------+----------------+\n"
     ]
    }
   ],
   "source": [
    "from prettytable import PrettyTable\n",
    "#If you get a ModuleNotFoundError error , install prettytable using: pip3 install prettytable\n",
    "x = PrettyTable()\n",
    "x.field_names = [\"Vectorizer\", \"Model\", \"Train log loss\", \"Test log loss\"]\n",
    "x.add_row([\"TFIDF\",\"Random Model\", \"-----\", 0.881719781613])\n",
    "x.add_row([\"TFIDF\",\"Logistic Regression\", 0.454954506432, 0.450363724367])\n",
    "x.add_row([\"TFIDF\",\"Linear SVM\", 0.47109614723, 0.464243617821])\n",
    "x.add_row([\"TFIDF\",\"XGBoost\", 0.091571, 0.332101433166])\n",
    "print(x)"
   ]
  },
  {
   "cell_type": "markdown",
   "metadata": {},
   "source": [
    "##### XGBoost is the best model."
   ]
  },
  {
   "cell_type": "markdown",
   "metadata": {},
   "source": [
    "# Steps Followed:"
   ]
  },
  {
   "cell_type": "markdown",
   "metadata": {},
   "source": [
    "##  1. Understanding the Problem"
   ]
  },
  {
   "cell_type": "markdown",
   "metadata": {},
   "source": [
    "Where else but Quora can a physicist help a chef with a math problem and get cooking tips in return? Quora is a place to gain and share knowledge about anything. It’s a platform to ask questions and connect with people who contribute unique insights and quality answers. This empowers people to learn from each other and to better understand the world.\n",
    "\n",
    "Over 100 million people visit Quora every month, so it's no surprise that many people ask similarly worded questions. Multiple questions with the same intent can cause seekers to spend more time finding the best answer to their question, and make writers feel they need to answer multiple versions of the same question. Quora values canonical questions because they provide a better experience to active seekers and writers, and offer more value to both of these groups in the long term.\n",
    "\n",
    "Currently, Quora uses a Random Forest model to identify duplicate questions. In this case study, we have to tackle this natural language processing problem by applying advanced techniques to classify whether question pairs are duplicates or not. Doing so will make it easier to find high quality answers to questions resulting in an improved experience for Quora writers, seekers, and readers."
   ]
  },
  {
   "cell_type": "markdown",
   "metadata": {},
   "source": [
    "## 2. Understanding the Dataset"
   ]
  },
  {
   "cell_type": "markdown",
   "metadata": {},
   "source": [
    "- file: train.csv\n",
    "- Contains 5 columns : qid1(question id 1), qid2(question id 2), question1, question2, is_duplicate \n",
    "- Size of the Dataset - 60MB \n",
    "- Number of rows/data points in the Dataset = 404,290"
   ]
  },
  {
   "cell_type": "markdown",
   "metadata": {},
   "source": [
    "## 3. Lets us understand the Data better"
   ]
  },
  {
   "cell_type": "markdown",
   "metadata": {},
   "source": [
    "- Visualise the Distribution of data points among output classes. We come to know that 63.08% Question pairs are not Similar (is_duplicate = 0) and the remaining 36.92% Question pairs are Similar (is_duplicate = 1)\n",
    "- Nearly 66.52% of the total questions are unique.\n",
    "- The maximum number of times a single question is repeated is 157\n",
    "- Understand whether there is any missing data in the given dataset. Access them accordingly."
   ]
  },
  {
   "cell_type": "markdown",
   "metadata": {},
   "source": [
    "## 4. Basic Feature Extraction/Engineering & Visual Analysis\n",
    "\n",
    "- freq_qid1 = Frequency of qid1's\n",
    "- freq_qid2 = Frequency of qid2's\n",
    "- q1len = Length of q1\n",
    "- q2len = Length of q2\n",
    "- q1_n_words = Number of words in Question 1\n",
    "- q2_n_words = Number of words in Question 2\n",
    "- word_Common = (Number of common unique words in Question 1 and Question 2)\n",
    "- word_Total =(Total num of words in Question 1 + Total num of words in Question 2)\n",
    "- word_share = (word_common)/(word_Total)\n",
    "- freq_q1+freq_q2 = sum total of frequency of qid1 and qid2\n",
    "- freq_q1-freq_q2 = absolute difference of frequency of qid1 and qid2\n",
    "\n",
    "<-> Add these features to the data in train.csv and save to df_fe_without_preprocessing_train.csv"
   ]
  },
  {
   "cell_type": "markdown",
   "metadata": {},
   "source": [
    "## 5. Cleaning of the Dataset \n",
    "\n",
    "- Remove HTML Tags\n",
    "- Removing Punctuations\n",
    "- Performing stemming\n",
    "- Expanding contractions"
   ]
  },
  {
   "cell_type": "markdown",
   "metadata": {},
   "source": [
    "## 6. Advanced Feature Engineering (NLP and Fuzzy Features)\n",
    "\n",
    "- cwc_min\n",
    "- cwc_max\n",
    "- csc_min\n",
    "- csc_max\n",
    "- ctc_min\n",
    "- ctc_max\n",
    "- last_word_eq\n",
    "- first_word_eq \n",
    "- abs_len_diff\n",
    "- mean_len\n",
    "- fuzz_ratio\n",
    "- fuzz_partial_ratio\n",
    "- token_sort_ratio\n",
    "- token_set_ratio\n",
    "- longest_substr_ratio\n",
    "\n",
    "<-> Read data from df_fe_without_preprocessing_train.csv and add these features and save to nlp_features_train.csv"
   ]
  },
  {
   "cell_type": "markdown",
   "metadata": {},
   "source": [
    "## 7. Final Dataset Preparation\n",
    "- Get required features from  df_fe_without_preprocessing_train.csv and nlp_features_train.csv and write to a dataframe with questions also."
   ]
  },
  {
   "cell_type": "markdown",
   "metadata": {},
   "source": [
    "## 8. Train-Test Split\n",
    "\n",
    "- 70:30 Split was considered"
   ]
  },
  {
   "cell_type": "markdown",
   "metadata": {},
   "source": [
    "## 9. Vectorization of the Questions using TFIDF(Term Frequency Inverse Document Frequency : with minimum df = 10)\n",
    "\n",
    "- Vectorize the questions with maximum to 10k features."
   ]
  },
  {
   "cell_type": "markdown",
   "metadata": {},
   "source": [
    "## 10. Prepare the Train and Test Dataset\n",
    "\n",
    "### 10(a). Train\n",
    "- Use scipy.sparse.hstack to combine the TFIDF Vectorised Questions1, Questions2, Basic Engineered Features & Advanced Engineered Features\n",
    "\n",
    "### 10(b). Test \n",
    "- Use scipy.hstack to combine the TFIDF Vectorised Questions1, Questions2, Basic Engineered Features & Advanced Engineered Features"
   ]
  },
  {
   "cell_type": "markdown",
   "metadata": {},
   "source": [
    "## 11. Build a Random Model to estimate the Maximum Loss a Model can have (Worst Case)\n",
    "- This helps us set a Standard to estimate how well our model performs.\n",
    "- Plot the Confusion matrix, Precision matrix, Recall matrix.\n",
    "- It gives us worst case log-loss."
   ]
  },
  {
   "cell_type": "markdown",
   "metadata": {},
   "source": [
    "## 12. Build a Logistic Regression Model with Hyperparameter Tuning\n",
    "- Set a range of values for alpha ranging from 10^-5 to 10^2.\n",
    "- Pick the best performing parameter on Train Data based on Loss .\n",
    "- Consider Log loss and L2 penalty.\n",
    "- Calculate the Loss with the obtained parameter on Test Data.\n",
    "- Plot the Confusion matrix, Precision matrix, Recall matrix."
   ]
  },
  {
   "cell_type": "markdown",
   "metadata": {},
   "source": [
    "## 13. Build a Linear SVM Model with Hyperparameter Tuning\n",
    "- Set a range of values for alpha ranging from 10^-5 to 10^2\n",
    "- Pick the best performing parameter on Train Data based on Loss.\n",
    "- Consider Hinge Loss and L1 penalty.\n",
    "- Calculate the Loss with the obtained parameter on Test Data.\n",
    "- Plot the Confusion matrix, Precision matrix, Recall matrix."
   ]
  },
  {
   "cell_type": "markdown",
   "metadata": {},
   "source": [
    "## 14. Build a XGBoost Model with Hyperparameter Tuning\n",
    "- Set a range of values for a set of parameters.\n",
    "- Apply RandomizedSearchCV.\n",
    "- Use 3 fold Cross Vaidation.\n",
    "- Pick the best performing parameter on Train Data based on Loss using random.best_params_\n",
    "- Calculate the Loss with the obtained parameter on Test Data.\n",
    "- Plot the Confusion matrix, Precision matrix, Recall matrix."
   ]
  },
  {
   "cell_type": "code",
   "execution_count": null,
   "metadata": {
    "collapsed": true
   },
   "outputs": [],
   "source": []
  }
 ],
 "metadata": {
  "colab": {
   "name": "4.ML_models.ipynb",
   "provenance": [],
   "version": "0.3.2"
  },
  "kernelspec": {
   "display_name": "Python 3",
   "language": "python",
   "name": "python3"
  },
  "language_info": {
   "codemirror_mode": {
    "name": "ipython",
    "version": 3
   },
   "file_extension": ".py",
   "mimetype": "text/x-python",
   "name": "python",
   "nbconvert_exporter": "python",
   "pygments_lexer": "ipython3",
   "version": "3.5.4"
  },
  "toc": {
   "base_numbering": 1,
   "nav_menu": {},
   "number_sections": true,
   "sideBar": true,
   "skip_h1_title": false,
   "title_cell": "Table of Contents",
   "title_sidebar": "Contents",
   "toc_cell": false,
   "toc_position": {},
   "toc_section_display": true,
   "toc_window_display": false
  },
  "varInspector": {
   "cols": {
    "lenName": 16,
    "lenType": 16,
    "lenVar": 40
   },
   "kernels_config": {
    "python": {
     "delete_cmd_postfix": "",
     "delete_cmd_prefix": "del ",
     "library": "var_list.py",
     "varRefreshCmd": "print(var_dic_list())"
    },
    "r": {
     "delete_cmd_postfix": ") ",
     "delete_cmd_prefix": "rm(",
     "library": "var_list.r",
     "varRefreshCmd": "cat(var_dic_list()) "
    }
   },
   "types_to_exclude": [
    "module",
    "function",
    "builtin_function_or_method",
    "instance",
    "_Feature"
   ],
   "window_display": false
  }
 },
 "nbformat": 4,
 "nbformat_minor": 1
}
